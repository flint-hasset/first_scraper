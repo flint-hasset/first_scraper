{
 "cells": [
  {
   "cell_type": "code",
   "execution_count": 1,
   "metadata": {
    "collapsed": true
   },
   "outputs": [],
   "source": [
    "import pandas as pd\n",
    "import numpy as np"
   ]
  },
  {
   "cell_type": "markdown",
   "metadata": {},
   "source": [
    "# Build Team\n",
    "1. Using position allocations, from small set\n",
    "2. Pairwise swaps through available FA\n",
    "3. Genetic algorithm-style approach for full-team build?"
   ]
  },
  {
   "cell_type": "markdown",
   "metadata": {},
   "source": [
    "## 1. Import data from scraper process"
   ]
  },
  {
   "cell_type": "code",
   "execution_count": 7,
   "metadata": {},
   "outputs": [],
   "source": [
    "path = r'C:\\Users\\stefa\\Documents\\GitHub\\first_scraper-master\\Data_2019-01-24_avg_14.csv'\n",
    "df = pd.read_csv(path)\n",
    "pd.set_option('display.max_columns', 500)"
   ]
  },
  {
   "cell_type": "markdown",
   "metadata": {},
   "source": [
    "#### Split FTM/FTA and FGM/FGA"
   ]
  },
  {
   "cell_type": "code",
   "execution_count": 28,
   "metadata": {},
   "outputs": [],
   "source": [
    "df[['ftm','fta']]=df['FTs'].str.split(pat='/',n=1, expand=True)\n",
    "df[['fgm','fga']]=df['FGs'].str.split(pat='/',n=1, expand=True)\n",
    "df['ftm'] = df['ftm'].astype(float)\n",
    "df['fta'] = df['fta'].astype(float)\n",
    "df['fgm'] = df['fgm'].astype(float)\n",
    "df['fga'] = df['fga'].astype(float)"
   ]
  },
  {
   "cell_type": "markdown",
   "metadata": {},
   "source": [
    "### 2. Set league parameters, Ioad in teams"
   ]
  },
  {
   "cell_type": "code",
   "execution_count": 9,
   "metadata": {
    "collapsed": true
   },
   "outputs": [],
   "source": [
    "teams = 10\n",
    "PG = 1\n",
    "SG = 1 \n",
    "G = 1\n",
    "PF = 1\n",
    "SF = 1\n",
    "F = 1\n",
    "C = 2\n",
    "U = 2\n",
    "bench = 2"
   ]
  },
  {
   "cell_type": "markdown",
   "metadata": {},
   "source": [
    "#### Define make_team function, calculates team statistics \n",
    "1. Inputs\n",
    "    - df_player\n",
    "    - requirements\n",
    "    - ?\n",
    "2. Approach\n",
    "    - Check reqs \n",
    "    - Calc stats\n",
    "        - Include projections for next week / rem season\n",
    "        - Will need to add \"Opponents\" module to scraper\n",
    "        "
   ]
  },
  {
   "cell_type": "code",
   "execution_count": 30,
   "metadata": {},
   "outputs": [],
   "source": [
    "#Placeholder for 10 best; just top-ranked slice for now\n",
    "df_team = df[df['Owner']=='Green Machine'].iloc[:9]\n",
    "df_team['games_next_week'] = 3.4\n",
    "\n",
    "# Team statistics\n",
    "team_fgp = np.sum(np.multiply(df_team['fgm'],df_team['games_next_week']))/np.sum(np.multiply(df_team['fga'],df_team['games_next_week']))\n",
    "team_ftp = np.sum(np.multiply(df_team['ftm'],df_team['games_next_week']))/np.sum(np.multiply(df_team['fta'],df_team['games_next_week']))\n",
    "team_pts = np.sum(np.multiply(df_team['Pts'],df_team['games_next_week']))\n",
    "team_3pt = np.sum(np.multiply(df_team['3pt'],df_team['games_next_week']))\n",
    "team_rbs = np.sum(np.multiply(df_team['Rbs'],df_team['games_next_week']))\n",
    "team_ast = np.sum(np.multiply(df_team['Ast'],df_team['games_next_week']))\n",
    "team_stl = np.sum(np.multiply(df_team['Stl'],df_team['games_next_week']))\n",
    "team_blk = np.sum(np.multiply(df_team['Blk'],df_team['games_next_week']))\n",
    "team_to = np.sum(np.multiply(df_team['TO'],df_team['games_next_week']))\n",
    "\n"
   ]
  },
  {
   "cell_type": "code",
   "execution_count": 39,
   "metadata": {},
   "outputs": [
    {
     "data": {
      "text/html": [
       "<div>\n",
       "<style>\n",
       "    .dataframe thead tr:only-child th {\n",
       "        text-align: right;\n",
       "    }\n",
       "\n",
       "    .dataframe thead th {\n",
       "        text-align: left;\n",
       "    }\n",
       "\n",
       "    .dataframe tbody tr th {\n",
       "        vertical-align: top;\n",
       "    }\n",
       "</style>\n",
       "<table border=\"1\" class=\"dataframe\">\n",
       "  <thead>\n",
       "    <tr style=\"text-align: right;\">\n",
       "      <th></th>\n",
       "      <th>3pt</th>\n",
       "      <th>ast</th>\n",
       "      <th>blk</th>\n",
       "      <th>fgp</th>\n",
       "      <th>ftp</th>\n",
       "      <th>pts</th>\n",
       "      <th>rbs</th>\n",
       "      <th>stl</th>\n",
       "      <th>to</th>\n",
       "    </tr>\n",
       "  </thead>\n",
       "  <tbody>\n",
       "    <tr>\n",
       "      <th>team</th>\n",
       "      <td>65.28</td>\n",
       "      <td>132.94</td>\n",
       "      <td>27.2</td>\n",
       "      <td>0.485306</td>\n",
       "      <td>0.797468</td>\n",
       "      <td>608.94</td>\n",
       "      <td>205.7</td>\n",
       "      <td>41.48</td>\n",
       "      <td>61.2</td>\n",
       "    </tr>\n",
       "  </tbody>\n",
       "</table>\n",
       "</div>"
      ],
      "text/plain": [
       "        3pt     ast   blk       fgp       ftp     pts    rbs    stl    to\n",
       "team  65.28  132.94  27.2  0.485306  0.797468  608.94  205.7  41.48  61.2"
      ]
     },
     "execution_count": 39,
     "metadata": {},
     "output_type": "execute_result"
    }
   ],
   "source": [
    "df_teamstats = pd.DataFrame(\n",
    "    {'fgp': team_fgp,\n",
    "     'ftp': team_ftp,\n",
    "     'pts': team_pts,\n",
    "     '3pt': team_3pt,\n",
    "     'rbs': team_rbs,\n",
    "     'ast': team_ast,\n",
    "     'stl': team_stl,\n",
    "     'blk': team_blk,\n",
    "     'to': team_to\n",
    "    },index=['team'])\n",
    "\n",
    "df_teamstats"
   ]
  },
  {
   "cell_type": "code",
   "execution_count": 17,
   "metadata": {},
   "outputs": [
    {
     "ename": "TypeError",
     "evalue": "can't multiply sequence by non-int of type 'float'",
     "output_type": "error",
     "traceback": [
      "\u001b[1;31m---------------------------------------------------------------------------\u001b[0m",
      "\u001b[1;31mTypeError\u001b[0m                                 Traceback (most recent call last)",
      "\u001b[1;32m<ipython-input-17-dbf2ae20dae2>\u001b[0m in \u001b[0;36m<module>\u001b[1;34m()\u001b[0m\n\u001b[1;32m----> 1\u001b[1;33m \u001b[0mnp\u001b[0m\u001b[1;33m.\u001b[0m\u001b[0msum\u001b[0m\u001b[1;33m(\u001b[0m\u001b[0mnp\u001b[0m\u001b[1;33m.\u001b[0m\u001b[0mmultiply\u001b[0m\u001b[1;33m(\u001b[0m\u001b[0mdf_team\u001b[0m\u001b[1;33m[\u001b[0m\u001b[1;34m'fgm'\u001b[0m\u001b[1;33m]\u001b[0m\u001b[1;33m,\u001b[0m\u001b[0mdf_team\u001b[0m\u001b[1;33m[\u001b[0m\u001b[1;34m'games_next_week'\u001b[0m\u001b[1;33m]\u001b[0m\u001b[1;33m)\u001b[0m\u001b[1;33m)\u001b[0m\u001b[1;33m\u001b[0m\u001b[0m\n\u001b[0m",
      "\u001b[1;31mTypeError\u001b[0m: can't multiply sequence by non-int of type 'float'"
     ]
    }
   ],
   "source": [
    "np.sum(np.multiply(df_team['fgm'],df_team['games_next_week']))"
   ]
  },
  {
   "cell_type": "code",
   "execution_count": null,
   "metadata": {
    "collapsed": true
   },
   "outputs": [],
   "source": [
    "#def make_team(df_player,requirements):\n",
    "    "
   ]
  }
 ],
 "metadata": {
  "kernelspec": {
   "display_name": "Python 3",
   "language": "python",
   "name": "python3"
  },
  "language_info": {
   "codemirror_mode": {
    "name": "ipython",
    "version": 3
   },
   "file_extension": ".py",
   "mimetype": "text/x-python",
   "name": "python",
   "nbconvert_exporter": "python",
   "pygments_lexer": "ipython3",
   "version": "3.6.1"
  }
 },
 "nbformat": 4,
 "nbformat_minor": 2
}
